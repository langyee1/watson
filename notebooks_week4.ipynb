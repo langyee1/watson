{
  "metadata": {
    "language_info": {
      "codemirror_mode": {
        "name": "python",
        "version": 3
      },
      "file_extension": ".py",
      "mimetype": "text/x-python",
      "name": "python",
      "nbconvert_exporter": "python",
      "pygments_lexer": "ipython3",
      "version": "3.8"
    },
    "kernelspec": {
      "name": "python",
      "display_name": "Python (Pyodide)",
      "language": "python"
    }
  },
  "nbformat_minor": 4,
  "nbformat": 4,
  "cells": [
    {
      "cell_type": "markdown",
      "source": "<H1> My Jupyter Notebook on IBM Watson Studio<H1>\n",
      "metadata": {}
    },
    {
      "cell_type": "markdown",
      "source": "**LAYP**\nData Scientist",
      "metadata": {}
    },
    {
      "cell_type": "markdown",
      "source": "*I'm interested in DS because I love how Data is complex, yet simple. Data is there for you to manipulate and is something you can count on*",
      "metadata": {}
    },
    {
      "cell_type": "markdown",
      "source": "<H3> My code is going to print 'Hello World' <H3>",
      "metadata": {}
    },
    {
      "cell_type": "code",
      "source": "print('Hello World')\n",
      "metadata": {
        "trusted": true
      },
      "execution_count": 3,
      "outputs": [
        {
          "name": "stdout",
          "text": "Hello World\n",
          "output_type": "stream"
        }
      ]
    },
    {
      "cell_type": "markdown",
      "source": "[link text](http://google.com)\n- uno\n- dos\n- tres\n\n| fruta | verdura | proteina |\n| --- | --- | --- |\n| pera | brocoli | garbanzo |\n\n1. uno\n2. dos\n3. tres\n\nHere's **A1** fruit <img src=\"https://www.producemarketguide.com/sites/default/files/Commodities.tar/Commodities/pears_commodity-page.png\" width=400 height=400 />",
      "metadata": {}
    },
    {
      "cell_type": "code",
      "source": "",
      "metadata": {},
      "execution_count": null,
      "outputs": []
    },
    {
      "cell_type": "code",
      "source": "",
      "metadata": {},
      "execution_count": null,
      "outputs": []
    },
    {
      "cell_type": "code",
      "source": "",
      "metadata": {},
      "execution_count": null,
      "outputs": []
    }
  ]
}